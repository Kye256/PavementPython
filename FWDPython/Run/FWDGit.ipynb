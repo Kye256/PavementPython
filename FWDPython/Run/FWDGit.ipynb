{
  "nbformat": 4,
  "nbformat_minor": 0,
  "metadata": {
    "colab": {
      "name": "FWDGit.ipynb",
      "provenance": [],
      "collapsed_sections": []
    },
    "kernelspec": {
      "name": "python3",
      "display_name": "Python 3"
    },
    "language_info": {
      "name": "python"
    }
  },
  "cells": [
    {
      "cell_type": "markdown",
      "metadata": {
        "id": "XFzvfWjK2y0H"
      },
      "source": [
        "# **Python FWD Codebase**\n",
        "Written for instructional purposes only. You do not need to know Python to use this tool. Follow instructions and click on the arrow symbol next to each cell to execute said cell. \n",
        "\n",
        "For source code, visit [github/egemenokte](https://github.com/egemenokte/3DLayeredElastic)"
      ]
    },
    {
      "cell_type": "markdown",
      "metadata": {
        "id": "EmmEFMiXBDce"
      },
      "source": [
        "#First Things First!\n",
        "\n",
        "*   You are given a GitHub repository (you can download and run yourself if you want)\n",
        "*   Follow the instructions provided in this document to execute and analyze FWD code/data. \n",
        "*   Work your way sequentially, following the instructions above each cell.\n",
        "*   If you run into errors, restart runtime from the Runtime tab.\n",
        "\n",
        "\n",
        "\n",
        "\n",
        "\n",
        "\n",
        "\n",
        "\n"
      ]
    },
    {
      "cell_type": "code",
      "metadata": {
        "id": "XYCTiJFj8itQ",
        "outputId": "3c525d5d-f376-4675-f565-3f9359491e44",
        "colab": {
          "base_uri": "https://localhost:8080/"
        }
      },
      "source": [
        "!git clone https://github.com/egemenokte/PavementPython.git\n",
        "%cd PavementPython/FWDPython/Run\n",
        "\n",
        "#Import packages necessary for FWD analysis\n",
        "import sys\n",
        "import os\n",
        "sys.path.append('..')\n",
        "from Main.MDA import Layer3D\n",
        "from Main.MDA import noise\n",
        "import numpy as np\n",
        "import pandas as pd\n",
        "import matplotlib.pyplot as plt\n",
        "import seaborn as sns\n",
        "from IPython.display import clear_output\n",
        "\n",
        "def plotfunc(RS,Expected=[]):\n",
        "    sns.set(font_scale=1.5,rc={'figure.figsize':(9,7)})\n",
        "    plt.close('all')\n",
        "    response='deflection_z' \n",
        "    A=RS[response][0,:,:].flatten()#/RS[response][0,0,:].flatten()\n",
        "    # A=RS['sigma_z'][0,:,:]\n",
        "    plt.plot(x,-1000*A,'-o') #normally, positive is compression, but we reversed for analysis\n",
        "    plt.xlabel('Offset (in)')\n",
        "    plt.ylabel('Deflection (mils)')\n",
        "    if len(Expected)==0:\n",
        "        plt.title('Deflections')\n",
        "    else:\n",
        "        plt.plot(x,Expected*-1000,'-o') \n",
        "        plt.title('Deflection avg difference %: '+ str(np.round(np.mean(np.abs((A-Expected)/Expected*100)),2)))\n",
        "        plt.legend(['Current','Baseline'])\n",
        "\n",
        "for i in range(10):\n",
        "    clear_output(wait=True)\n",
        "    print(\"All good, move to the next step\")"
      ],
      "execution_count": 18,
      "outputs": [
        {
          "output_type": "stream",
          "name": "stdout",
          "text": [
            "All good, move to the next step\n"
          ]
        }
      ]
    },
    {
      "cell_type": "markdown",
      "metadata": {
        "id": "hT-MvZE387-v"
      },
      "source": [
        "# Question 1) Sensitivity Analysis\n",
        "You are given a structure with specific properties. Change the modulus/thickness of different layers to see its impact on the design"
      ]
    },
    {
      "cell_type": "code",
      "metadata": {
        "id": "ZZSYzwZd9iwd",
        "outputId": "6416ab77-95da-4625-a6ef-28f50425306d",
        "colab": {
          "base_uri": "https://localhost:8080/",
          "height": 828
        }
      },
      "source": [
        "## YOU CAN CHANGE THESE PARAMETERS IF NECESSARY################################\n",
        "E = [500, 50, 10]           # Layer Modulus (ksi), [Top Layer, Second to top layer,...,Subgrade]\n",
        "H = [6, 18]                 # Layer Thicknesses (inch), [Top Layer, Second to top layer,...,nth layer]. Subgrade is not required and assumed semi-infinite\n",
        "nu = [0.35, 0.4, 0.45]      # Poissons ratio, [Top Layer, Second to top layer,...,Subgrade]\n",
        "L=[9]                       # Load Magnitudes (kip)\n",
        "LPos=[(0,0)]                # Load positions as (x,y) (inch)\n",
        "a = 4                       # Contact radius (inch)\n",
        "x = [0,8,12,18,24,36,60]    # x query points for FWD (inch) \n",
        "y=[0]                       # y query points (inch) \n",
        "z =[0.0001]                 # z (depth) query points (inch)\n",
        "###############################################################################\n",
        "\n",
        "############################ DO NOT CHANGE BELOW THIS LINE#####################\n",
        "if np.sum(E)==0 or np.sum(H)==0: #initial check\n",
        "    raise ValueError('Please assign moduli and thickness to each layer')\n",
        "\n",
        "## Layered elastic analysis settings. Do not change unless slow or unstable\n",
        "ZRO=7*1e-22\n",
        "isBD=np.ones(len(E))\n",
        "it = 1600                   # number of iterations\n",
        "tolerance=0.01 #percent error\n",
        "print('Running Elastic Analysis...')\n",
        "RS=Layer3D(L,LPos,a,x,y,z,H,E,nu,it,ZRO,isBD,tolerance,verbose=False)\n",
        "\n",
        "#Print Results\n",
        "Baseline=np.array([0.01546308, 0.01217273, 0.01080086, 0.00920365, 0.00799572, 0.00627599, 0.00418317]) #inches\n",
        "#Plots the 0th y axis   \n",
        "plotfunc(RS,Baseline)\n",
        "print('\\nResults (you can copy and paste to Excel)\\n')\n",
        "d = {'Offset (in)': x, 'Deflection (mils)': RS['deflection_z'][0,:,:].flatten()*-1000,'Baseline (mils)':Baseline*-1000}\n",
        "Deflections = pd.DataFrame(data=d)\n",
        "Deflections.index=Deflections.index+1\n",
        "Deflections.index.name = 'Point'\n",
        "Deflections\n",
        "#%%"
      ],
      "execution_count": 22,
      "outputs": [
        {
          "output_type": "stream",
          "name": "stdout",
          "text": [
            "Running Elastic Analysis...\n",
            "\n",
            "Results (you can copy and paste to Excel)\n",
            "\n"
          ]
        },
        {
          "output_type": "execute_result",
          "data": {
            "text/html": [
              "<div>\n",
              "<style scoped>\n",
              "    .dataframe tbody tr th:only-of-type {\n",
              "        vertical-align: middle;\n",
              "    }\n",
              "\n",
              "    .dataframe tbody tr th {\n",
              "        vertical-align: top;\n",
              "    }\n",
              "\n",
              "    .dataframe thead th {\n",
              "        text-align: right;\n",
              "    }\n",
              "</style>\n",
              "<table border=\"1\" class=\"dataframe\">\n",
              "  <thead>\n",
              "    <tr style=\"text-align: right;\">\n",
              "      <th></th>\n",
              "      <th>Offset (in)</th>\n",
              "      <th>Deflection (mils)</th>\n",
              "      <th>Baseline (mils)</th>\n",
              "    </tr>\n",
              "    <tr>\n",
              "      <th>Point</th>\n",
              "      <th></th>\n",
              "      <th></th>\n",
              "      <th></th>\n",
              "    </tr>\n",
              "  </thead>\n",
              "  <tbody>\n",
              "    <tr>\n",
              "      <th>1</th>\n",
              "      <td>0</td>\n",
              "      <td>-15.463083</td>\n",
              "      <td>-15.46308</td>\n",
              "    </tr>\n",
              "    <tr>\n",
              "      <th>2</th>\n",
              "      <td>8</td>\n",
              "      <td>-12.172725</td>\n",
              "      <td>-12.17273</td>\n",
              "    </tr>\n",
              "    <tr>\n",
              "      <th>3</th>\n",
              "      <td>12</td>\n",
              "      <td>-10.800864</td>\n",
              "      <td>-10.80086</td>\n",
              "    </tr>\n",
              "    <tr>\n",
              "      <th>4</th>\n",
              "      <td>18</td>\n",
              "      <td>-9.203645</td>\n",
              "      <td>-9.20365</td>\n",
              "    </tr>\n",
              "    <tr>\n",
              "      <th>5</th>\n",
              "      <td>24</td>\n",
              "      <td>-7.995715</td>\n",
              "      <td>-7.99572</td>\n",
              "    </tr>\n",
              "    <tr>\n",
              "      <th>6</th>\n",
              "      <td>36</td>\n",
              "      <td>-6.275986</td>\n",
              "      <td>-6.27599</td>\n",
              "    </tr>\n",
              "    <tr>\n",
              "      <th>7</th>\n",
              "      <td>60</td>\n",
              "      <td>-4.183165</td>\n",
              "      <td>-4.18317</td>\n",
              "    </tr>\n",
              "  </tbody>\n",
              "</table>\n",
              "</div>"
            ],
            "text/plain": [
              "       Offset (in)  Deflection (mils)  Baseline (mils)\n",
              "Point                                                 \n",
              "1                0         -15.463083        -15.46308\n",
              "2                8         -12.172725        -12.17273\n",
              "3               12         -10.800864        -10.80086\n",
              "4               18          -9.203645         -9.20365\n",
              "5               24          -7.995715         -7.99572\n",
              "6               36          -6.275986         -6.27599\n",
              "7               60          -4.183165         -4.18317"
            ]
          },
          "metadata": {},
          "execution_count": 22
        },
        {
          "output_type": "display_data",
          "data": {
            "image/png": "[encoded data removed]",
            "text/plain": [
              "<Figure size 648x504 with 1 Axes>"
            ]
          },
          "metadata": {}
        }
      ]
    },
    {
      "cell_type": "markdown",
      "metadata": {
        "id": "wmU7-1DHB2Y5"
      },
      "source": [
        "# Question 2) Manual iteration\n",
        "You are given a baseline profile. Try to find the parameters that will result in the given deflection profile. In the cell below, define the thicknesses, moduli of layers. Start with reasonable values. Load, contact radius, Poisson's ratio and FWD evaluation points are already defined for you. Then you can run the elastic analysis. Iterate as needed"
      ]
    },
    {
      "cell_type": "code",
      "metadata": {
        "id": "QneZYlEF8J--"
      },
      "source": [
        "## YOU CAN CHANGE THESE PARAMETERS IF NECESSARY############################\n",
        "E = [0, 0, 0]             # Layer Modulus (ksi), [Top Layer, Second to top layer,...,Subgrade]\n",
        "H = [0, 0]                # Layer Thicknesses (inch), [Top Layer, Second to top layer,...,nth layer]. Subgrade is not required and assumed semi-infinite\n",
        "nu = [0.35, 0.4, 0.45]    # Poissons ratio, [Top Layer, Second to top layer,...,Subgrade]\n",
        "L=[9]                     # Load Magnitudes (kip)\n",
        "LPos=[(0,0)]              # Load positions as (x,y) (inch)\n",
        "a = 4                     # Contact radius (inch)\n",
        "x = [0,8,12,18,24,36,60]  # x query points for FWD (inch) \n",
        "y=[0]                     # y query points (inch) \n",
        "z =[0.0001]               # z (depth) query points (inch)\n",
        "##########################################################################\n",
        "\n",
        "############### DO NOT CHANGE BELOW THIS LINE#############################\n",
        "\n",
        "if np.sum(E)==0 or np.sum(H)==0: #initial check\n",
        "    raise ValueError('Please assign moduli and thickness to each layer')\n",
        "\n",
        "## Layered elastic analysis settings. Do not change unless slow or unstable\n",
        "ZRO=7*1e-22\n",
        "isBD=np.ones(len(E))\n",
        "it = 1600                   # number of iterations\n",
        "tolerance=0.01 #percent error\n",
        "print('Running Elastic Analysis...')\n",
        "RS=Layer3D(L,LPos,a,x,y,z,H,E,nu,it,ZRO,isBD,tolerance,verbose=False)\n",
        "\n",
        "#Print Results\n",
        "Expected=np.array([0.01653036,0.01197781,0.00999503,0.00784816,0.00637635,0.0045364 ,0.00272343]) #inches\n",
        "\n",
        "#Plots the 0th y axis   \n",
        "plotfunc(RS,Expected)\n",
        "\n",
        "print('\\nResults (you can copy and paste to Excel)\\n')\n",
        "d = {'Offset (in)': x, 'Deflection (mils)': RS['deflection_z'][0,:,:].flatten()*-1000,'Expected (mils)':Expected*-1000}\n",
        "Deflections = pd.DataFrame(data=d)\n",
        "Deflections.index=Deflections.index+1\n",
        "Deflections.index.name = 'Point'\n",
        "Deflections #dy ki ob b ob \n",
        "#%%\n",
        "\n"
      ],
      "execution_count": null,
      "outputs": []
    },
    {
      "cell_type": "markdown",
      "metadata": {
        "id": "NQQjg5UsUlRf"
      },
      "source": [
        "# Question 3) Solving for Unknown Layer Properties\n",
        "In this section, define initial layer properties and use the sklearn curve_fit function to find ideal parameters."
      ]
    },
    {
      "cell_type": "code",
      "metadata": {
        "id": "S5NVc90-B9Px"
      },
      "source": [
        "from scipy.optimize import curve_fit #import curve_fit function\n",
        "Expected2=np.array([0.02114734, 0.0155243 , 0.01329134, 0.01097187, 0.00928984,0.0068977 , 0.00419102]) #inches\n",
        "## YOU CAN CHANGE THESE PARAMETERS #############################\n",
        "noiserate=0/100              # equipment noise\n",
        "E0=[0,0,0]                   # Initial guess for material properties in ksi\n",
        "H0=[0,0]                     # Initial guess for thicknesses in inch\n",
        "thicknessknown=False         # Are the layer thicknesses known?\n",
        "\n",
        "\n",
        "nu = [0.35, 0.4, 0.45]       # Poissons ratio, [AC, Base, Subgrade]\n",
        "L=[9]                        # Load Magnitudes (kip)\n",
        "LPos=[(0,0)]                 # Load positions as (x,y) (inch)\n",
        "a = 4                        # Contact radius (inch)\n",
        "x = [0,8,12,18,24,36,60]     # x query points for FWD (inch) \n",
        "y=[0]                        # y query points (inch) \n",
        "z =[0.0001]                  # z (depth) query points (inch)\n",
        "################################################################\n",
        "\n",
        "############## DO NOT CHANGE BELOW THIS LINE ###################\n",
        "ZRO=7*1e-22\n",
        "isBD=np.ones(len(E0))\n",
        "it = 1600                   # number of iterations\n",
        "tolerance=0.01 #percent error\n",
        "count=0\n",
        "if np.sum(E0)==0 or np.sum(H0)==0: #initial check\n",
        "    raise ValueError('Please assign initial moduli and thickness to each layer')\n",
        "\n",
        "if thicknessknown:\n",
        "    initialguess=E0\n",
        "    def func(x2,E1,E2,E3): #this is the function that defines the predictive function\n",
        "        global count\n",
        "        RS=Layer3D(L,LPos,a,x,y,z,H0,[E1,E2,E3],nu,it,ZRO,isBD,tolerance,verbose=False)\n",
        "        TT=np.transpose(RS['deflection_z'][0,:,:]).flatten()\n",
        "        count=count+1\n",
        "        return TT\n",
        "else:\n",
        "    initialguess=np.concatenate((E0,H0))\n",
        "    def func(x2,E1,E2,E3,H1,H2): #this is the function that defines the predictive function\n",
        "        global count\n",
        "        RS=Layer3D(L,LPos,a,x,y,z,[H1,H2],[E1,E2,E3],nu,it,ZRO,isBD,tolerance,verbose=False)\n",
        "        TT=np.transpose(RS['deflection_z'][0,:,:]).flatten()\n",
        "        count=count+1\n",
        "        return TT\n",
        "###################\n",
        "print('Solving for parameters. Please wait...')\n",
        "Expected2s=Expected2*noise(noiserate)\n",
        "Efinal, pcov = curve_fit(func, np.arange(0,len(Expected2s)+1), Expected2s,initialguess) #Solve for the parameters\n",
        "\n",
        "Hfinal=H0 if thicknessknown else Efinal[3:] #dy al on d oi\n",
        "Efinal=Efinal[:3]\n",
        "print('Converged after ',count, ' iterations\\n')\n",
        "#print('Moduli (ksi)',Efinal)\n",
        "#print('Thickness (in)',Hfinal)\n",
        "RS=Layer3D(L,LPos,a,x,y,z,Hfinal,Efinal,nu,it,ZRO,isBD,tolerance,verbose=False)\n",
        "plotfunc(RS,Expected2) \n",
        "d = {'Layer': np.arange(1,len(E0)+1), 'Modulus (ksi)': Efinal,'Thickness (in)':np.append(Hfinal,np.inf)}\n",
        "Layers = pd.DataFrame(data=d)\n",
        "Layers=Layers.set_index('Layer')\n",
        "print('\\nResults (you can copy and paste to Excel)\\n')\n",
        "Layers.index=Layers.index+1\n",
        "Layers.index.name = 'Point'\n",
        "Layers"
      ],
      "execution_count": null,
      "outputs": []
    }
  ]
}
