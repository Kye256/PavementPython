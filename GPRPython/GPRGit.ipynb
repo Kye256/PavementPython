{
  "nbformat": 4,
  "nbformat_minor": 0,
  "metadata": {
    "colab": {
      "name": "GPRGit.ipynb",
      "provenance": [],
      "collapsed_sections": []
    },
    "kernelspec": {
      "display_name": "Python 3",
      "name": "python3"
    },
    "language_info": {
      "name": "python"
    }
  },
  "cells": [
    {
      "cell_type": "markdown",
      "metadata": {
        "id": "LL6dh7Y1lo10"
      },
      "source": [
        "#**Python GPR Codebase**\n",
        "Written for instructional purposes only. You do not need to know Python to use this tool. Follow instructions and click on the arrow smbol next to each cell to execute said cell. \n"
      ]
    },
    {
      "cell_type": "markdown",
      "metadata": {
        "id": "pTU8-0-AlyqD"
      },
      "source": [
        "#First Things First!\n",
        "\n",
        "*   You are given a GitHub repository (you can download and run yourself if you want)\n",
        "*   Follow the instructions provided in this document to execute and analyze GPR code/data. \n",
        "*   Work your way sequentially, following the instructions above each cell.\n",
        "*   If you run into errors, restart runtime from the Runtime tab."
      ]
    },
    {
      "cell_type": "code",
      "metadata": {
        "id": "qJzyCzBaEOeL"
      },
      "source": [
        "!git clone https://github.com/egemenokte/PavementPython.git\n",
        "%cd PavementPython/GPRPython\n",
        "#!pip install git+https://github.com/iannesbitt/readgssi\n",
        "!pip install readgssi\n",
        "\n",
        "from IPython.display import clear_output\n",
        "\n",
        "for i in range(10):\n",
        "    clear_output(wait=True)\n",
        "    print(\"All good, move to the next step\")"
      ],
      "execution_count": null,
      "outputs": []
    },
    {
      "cell_type": "markdown",
      "metadata": {
        "id": "cMsz99JQl4W7"
      },
      "source": [
        "# Full Depth Asphalt\n",
        "Run the following cell to display the GPR scan of a full depth asphalt road. To see it better, click on the generated two images and you can scroll left and right in order to see final details. To minimize the image, simply click again.\n",
        "\n",
        "A copy of this cell is generated as a png file in the files folder"
      ]
    },
    {
      "cell_type": "code",
      "metadata": {
        "id": "nacWLbpq_E0I"
      },
      "source": [
        "from readgssi import readgssi\n",
        "readgssi.readgssi(infile='files/FullDepthAsphalt.dzt', outfile='files/FullDepth', frmt='png',zero=[0], plotting=True,x='m')"
      ],
      "execution_count": null,
      "outputs": []
    },
    {
      "cell_type": "markdown",
      "metadata": {
        "id": "eFeejfBsmPfx"
      },
      "source": [
        "# CRCP\n",
        "Run the following cell to display the GPR scan of a CRCP. To see it better, click on the generated two images and you can scroll left and right in order to see final details. To minimize the image, simply click again.\n",
        "\n",
        "A copy of this cell is generated as a png file in the files folder"
      ]
    },
    {
      "cell_type": "code",
      "metadata": {
        "colab": {
          "background_save": true
        },
        "id": "ztqC18aT50Qx"
      },
      "source": [
        "readgssi.readgssi(infile='files/CRCP.dzt', outfile='files/CRCP', frmt='png',zero=[0], plotting=True ,x='m')"
      ],
      "execution_count": null,
      "outputs": []
    }
  ]
}
